{
 "cells": [
  {
   "cell_type": "markdown",
   "source": [
    "# 過学習と学習不足について知る\n",
    "\n",
    "https://www.tensorflow.org/tutorials/keras/overfit_and_underfit"
   ],
   "metadata": {}
  },
  {
   "cell_type": "code",
   "execution_count": 1,
   "source": [
    "import tensorflow as tf\n",
    "from tensorflow import keras\n",
    "\n",
    "import numpy as np\n",
    "import matplotlib.pyplot as plt\n",
    "\n",
    "print(tf.__version__)"
   ],
   "outputs": [
    {
     "output_type": "stream",
     "name": "stdout",
     "text": [
      "2.5.0\n"
     ]
    }
   ],
   "metadata": {}
  },
  {
   "cell_type": "code",
   "execution_count": 6,
   "source": [
    "NUM_WORDS = 10000\n",
    "\n",
    "(train_data, train_labels), (test_data, test_labels) = keras.datasets.imdb.load_data(num_words=NUM_WORDS)\n",
    "train_data = train_data[:10000]\n",
    "train_labels = train_labels[:10000]\n",
    "test_data = test_data[:10000]\n",
    "test_labels = test_labels[:10000]\n",
    "\n",
    "def multi_hot_sequences(sequences, dimension):\n",
    "    # 形状が (len(sequences), dimension)ですべて0の行列を作る\n",
    "    results = np.zeros((len(sequences), dimension))\n",
    "    for i, word_indices in enumerate(sequences):\n",
    "        results[i, word_indices] = 1.0  # 特定のインデックスに対してresults[i] を１に設定する\n",
    "    return results\n",
    "\n",
    "\n",
    "print(train_data.shape)\n",
    "train_data = multi_hot_sequences(train_data, dimension=NUM_WORDS)\n",
    "print(train_data.shape)\n",
    "test_data = multi_hot_sequences(test_data, dimension=NUM_WORDS)"
   ],
   "outputs": [
    {
     "output_type": "stream",
     "name": "stderr",
     "text": [
      "<__array_function__ internals>:5: VisibleDeprecationWarning: Creating an ndarray from ragged nested sequences (which is a list-or-tuple of lists-or-tuples-or ndarrays with different lengths or shapes) is deprecated. If you meant to do this, you must specify 'dtype=object' when creating the ndarray\n",
      "/workspaces/tf_tutorial/.venv/lib/python3.8/site-packages/tensorflow/python/keras/datasets/imdb.py:155: VisibleDeprecationWarning: Creating an ndarray from ragged nested sequences (which is a list-or-tuple of lists-or-tuples-or ndarrays with different lengths or shapes) is deprecated. If you meant to do this, you must specify 'dtype=object' when creating the ndarray\n",
      "  x_train, y_train = np.array(xs[:idx]), np.array(labels[:idx])\n",
      "/workspaces/tf_tutorial/.venv/lib/python3.8/site-packages/tensorflow/python/keras/datasets/imdb.py:156: VisibleDeprecationWarning: Creating an ndarray from ragged nested sequences (which is a list-or-tuple of lists-or-tuples-or ndarrays with different lengths or shapes) is deprecated. If you meant to do this, you must specify 'dtype=object' when creating the ndarray\n",
      "  x_test, y_test = np.array(xs[idx:]), np.array(labels[idx:])\n"
     ]
    },
    {
     "output_type": "stream",
     "name": "stdout",
     "text": [
      "(10000,)\n",
      "(10000, 10000)\n"
     ]
    }
   ],
   "metadata": {}
  },
  {
   "cell_type": "code",
   "execution_count": 7,
   "source": [
    "plt.plot(train_data[0])"
   ],
   "outputs": [
    {
     "output_type": "execute_result",
     "data": {
      "text/plain": [
       "[<matplotlib.lines.Line2D at 0x7f52d3293a60>]"
      ]
     },
     "metadata": {},
     "execution_count": 7
    },
    {
     "output_type": "display_data",
     "data": {
      "text/plain": [
       "<Figure size 432x288 with 1 Axes>"
      ],
      "image/png": "[encoded data removed]"
     },
     "metadata": {
      "needs_background": "light"
     }
    }
   ],
   "metadata": {}
  },
  {
   "cell_type": "code",
   "execution_count": 8,
   "source": [
    "baseline_model = keras.Sequential([\n",
    "    # `.summary` を見るために`input_shape`が必要 \n",
    "    keras.layers.Dense(16, activation='relu', input_shape=(NUM_WORDS,)),\n",
    "    keras.layers.Dense(16, activation='relu'),\n",
    "    keras.layers.Dense(1, activation='sigmoid')\n",
    "])\n",
    "\n",
    "baseline_model.compile(optimizer='adam',\n",
    "                       loss='binary_crossentropy',\n",
    "                       metrics=['accuracy', 'binary_crossentropy'])\n",
    "\n",
    "baseline_model.summary()"
   ],
   "outputs": [
    {
     "output_type": "stream",
     "name": "stdout",
     "text": [
      "Model: \"sequential_1\"\n",
      "_________________________________________________________________\n",
      "Layer (type)                 Output Shape              Param #   \n",
      "=================================================================\n",
      "dense_3 (Dense)              (None, 16)                160016    \n",
      "_________________________________________________________________\n",
      "dense_4 (Dense)              (None, 16)                272       \n",
      "_________________________________________________________________\n",
      "dense_5 (Dense)              (None, 1)                 17        \n",
      "=================================================================\n",
      "Total params: 160,305\n",
      "Trainable params: 160,305\n",
      "Non-trainable params: 0\n",
      "_________________________________________________________________\n"
     ]
    }
   ],
   "metadata": {}
  },
  {
   "cell_type": "code",
   "execution_count": 9,
   "source": [
    "baseline_history = baseline_model.fit(train_data,\n",
    "                                      train_labels,\n",
    "                                      epochs=20,\n",
    "                                      batch_size=512,\n",
    "                                      validation_data=(test_data, test_labels),\n",
    "                                      verbose=2)"
   ],
   "outputs": [
    {
     "output_type": "stream",
     "name": "stdout",
     "text": [
      "Epoch 1/20\n",
      "20/20 - 4s - loss: 0.6167 - accuracy: 0.7274 - binary_crossentropy: 0.6167 - val_loss: 0.5085 - val_accuracy: 0.8351 - val_binary_crossentropy: 0.5085\n",
      "Epoch 2/20\n",
      "20/20 - 1s - loss: 0.3946 - accuracy: 0.8854 - binary_crossentropy: 0.3946 - val_loss: 0.3755 - val_accuracy: 0.8661 - val_binary_crossentropy: 0.3755\n",
      "Epoch 3/20\n",
      "20/20 - 1s - loss: 0.2640 - accuracy: 0.9209 - binary_crossentropy: 0.2640 - val_loss: 0.3200 - val_accuracy: 0.8768 - val_binary_crossentropy: 0.3200\n",
      "Epoch 4/20\n",
      "20/20 - 1s - loss: 0.1907 - accuracy: 0.9465 - binary_crossentropy: 0.1907 - val_loss: 0.3043 - val_accuracy: 0.8753 - val_binary_crossentropy: 0.3043\n",
      "Epoch 5/20\n",
      "20/20 - 1s - loss: 0.1423 - accuracy: 0.9635 - binary_crossentropy: 0.1423 - val_loss: 0.3075 - val_accuracy: 0.8741 - val_binary_crossentropy: 0.3075\n",
      "Epoch 6/20\n",
      "20/20 - 1s - loss: 0.1079 - accuracy: 0.9747 - binary_crossentropy: 0.1079 - val_loss: 0.3203 - val_accuracy: 0.8712 - val_binary_crossentropy: 0.3203\n",
      "Epoch 7/20\n",
      "20/20 - 1s - loss: 0.0821 - accuracy: 0.9854 - binary_crossentropy: 0.0821 - val_loss: 0.3358 - val_accuracy: 0.8699 - val_binary_crossentropy: 0.3358\n",
      "Epoch 8/20\n",
      "20/20 - 1s - loss: 0.0627 - accuracy: 0.9902 - binary_crossentropy: 0.0627 - val_loss: 0.3591 - val_accuracy: 0.8670 - val_binary_crossentropy: 0.3591\n",
      "Epoch 9/20\n",
      "20/20 - 1s - loss: 0.0478 - accuracy: 0.9933 - binary_crossentropy: 0.0478 - val_loss: 0.3865 - val_accuracy: 0.8644 - val_binary_crossentropy: 0.3865\n",
      "Epoch 10/20\n",
      "20/20 - 1s - loss: 0.0366 - accuracy: 0.9959 - binary_crossentropy: 0.0366 - val_loss: 0.4034 - val_accuracy: 0.8657 - val_binary_crossentropy: 0.4034\n",
      "Epoch 11/20\n",
      "20/20 - 1s - loss: 0.0280 - accuracy: 0.9976 - binary_crossentropy: 0.0280 - val_loss: 0.4278 - val_accuracy: 0.8636 - val_binary_crossentropy: 0.4278\n",
      "Epoch 12/20\n",
      "20/20 - 1s - loss: 0.0214 - accuracy: 0.9983 - binary_crossentropy: 0.0214 - val_loss: 0.4488 - val_accuracy: 0.8626 - val_binary_crossentropy: 0.4488\n",
      "Epoch 13/20\n",
      "20/20 - 1s - loss: 0.0168 - accuracy: 0.9988 - binary_crossentropy: 0.0168 - val_loss: 0.4719 - val_accuracy: 0.8620 - val_binary_crossentropy: 0.4719\n",
      "Epoch 14/20\n",
      "20/20 - 1s - loss: 0.0133 - accuracy: 0.9993 - binary_crossentropy: 0.0133 - val_loss: 0.4925 - val_accuracy: 0.8604 - val_binary_crossentropy: 0.4925\n",
      "Epoch 15/20\n",
      "20/20 - 1s - loss: 0.0107 - accuracy: 0.9998 - binary_crossentropy: 0.0107 - val_loss: 0.5132 - val_accuracy: 0.8600 - val_binary_crossentropy: 0.5132\n",
      "Epoch 16/20\n",
      "20/20 - 1s - loss: 0.0088 - accuracy: 0.9999 - binary_crossentropy: 0.0088 - val_loss: 0.5306 - val_accuracy: 0.8593 - val_binary_crossentropy: 0.5306\n",
      "Epoch 17/20\n",
      "20/20 - 1s - loss: 0.0073 - accuracy: 1.0000 - binary_crossentropy: 0.0073 - val_loss: 0.5465 - val_accuracy: 0.8578 - val_binary_crossentropy: 0.5465\n",
      "Epoch 18/20\n",
      "20/20 - 1s - loss: 0.0062 - accuracy: 1.0000 - binary_crossentropy: 0.0062 - val_loss: 0.5622 - val_accuracy: 0.8570 - val_binary_crossentropy: 0.5622\n",
      "Epoch 19/20\n",
      "20/20 - 1s - loss: 0.0053 - accuracy: 1.0000 - binary_crossentropy: 0.0053 - val_loss: 0.5779 - val_accuracy: 0.8569 - val_binary_crossentropy: 0.5779\n",
      "Epoch 20/20\n",
      "20/20 - 1s - loss: 0.0046 - accuracy: 1.0000 - binary_crossentropy: 0.0046 - val_loss: 0.5937 - val_accuracy: 0.8546 - val_binary_crossentropy: 0.5937\n"
     ]
    }
   ],
   "metadata": {}
  },
  {
   "cell_type": "code",
   "execution_count": 10,
   "source": [
    "smaller_model = keras.Sequential([\n",
    "    keras.layers.Dense(4, activation='relu', input_shape=(NUM_WORDS,)),\n",
    "    keras.layers.Dense(4, activation='relu'),\n",
    "    keras.layers.Dense(1, activation='sigmoid')\n",
    "])\n",
    "\n",
    "smaller_model.compile(optimizer='adam',\n",
    "                      loss='binary_crossentropy',\n",
    "                      metrics=['accuracy', 'binary_crossentropy'])\n",
    "\n",
    "smaller_model.summary()"
   ],
   "outputs": [
    {
     "output_type": "stream",
     "name": "stdout",
     "text": [
      "Model: \"sequential_2\"\n",
      "_________________________________________________________________\n",
      "Layer (type)                 Output Shape              Param #   \n",
      "=================================================================\n",
      "dense_6 (Dense)              (None, 4)                 40004     \n",
      "_________________________________________________________________\n",
      "dense_7 (Dense)              (None, 4)                 20        \n",
      "_________________________________________________________________\n",
      "dense_8 (Dense)              (None, 1)                 5         \n",
      "=================================================================\n",
      "Total params: 40,029\n",
      "Trainable params: 40,029\n",
      "Non-trainable params: 0\n",
      "_________________________________________________________________\n"
     ]
    }
   ],
   "metadata": {}
  },
  {
   "cell_type": "code",
   "execution_count": 11,
   "source": [
    "smaller_history = smaller_model.fit(train_data,\n",
    "                                    train_labels,\n",
    "                                    epochs=20,\n",
    "                                    batch_size=512,\n",
    "                                    validation_data=(test_data, test_labels),\n",
    "                                    verbose=2)"
   ],
   "outputs": [
    {
     "output_type": "stream",
     "name": "stdout",
     "text": [
      "Epoch 1/20\n",
      "20/20 - 2s - loss: 0.6790 - accuracy: 0.6818 - binary_crossentropy: 0.6790 - val_loss: 0.6570 - val_accuracy: 0.7910 - val_binary_crossentropy: 0.6570\n",
      "Epoch 2/20\n",
      "20/20 - 1s - loss: 0.6289 - accuracy: 0.8327 - binary_crossentropy: 0.6289 - val_loss: 0.6114 - val_accuracy: 0.8215 - val_binary_crossentropy: 0.6114\n",
      "Epoch 3/20\n",
      "20/20 - 1s - loss: 0.5722 - accuracy: 0.8561 - binary_crossentropy: 0.5722 - val_loss: 0.5613 - val_accuracy: 0.8420 - val_binary_crossentropy: 0.5613\n",
      "Epoch 4/20\n",
      "20/20 - 1s - loss: 0.5110 - accuracy: 0.8821 - binary_crossentropy: 0.5110 - val_loss: 0.5103 - val_accuracy: 0.8464 - val_binary_crossentropy: 0.5103\n",
      "Epoch 5/20\n",
      "20/20 - 1s - loss: 0.4494 - accuracy: 0.8923 - binary_crossentropy: 0.4494 - val_loss: 0.4619 - val_accuracy: 0.8565 - val_binary_crossentropy: 0.4619\n",
      "Epoch 6/20\n",
      "20/20 - 1s - loss: 0.3924 - accuracy: 0.9021 - binary_crossentropy: 0.3924 - val_loss: 0.4207 - val_accuracy: 0.8607 - val_binary_crossentropy: 0.4207\n",
      "Epoch 7/20\n",
      "20/20 - 1s - loss: 0.3436 - accuracy: 0.9114 - binary_crossentropy: 0.3436 - val_loss: 0.3874 - val_accuracy: 0.8707 - val_binary_crossentropy: 0.3874\n",
      "Epoch 8/20\n",
      "20/20 - 1s - loss: 0.3025 - accuracy: 0.9192 - binary_crossentropy: 0.3025 - val_loss: 0.3621 - val_accuracy: 0.8724 - val_binary_crossentropy: 0.3621\n",
      "Epoch 9/20\n",
      "20/20 - 1s - loss: 0.2681 - accuracy: 0.9287 - binary_crossentropy: 0.2681 - val_loss: 0.3427 - val_accuracy: 0.8738 - val_binary_crossentropy: 0.3427\n",
      "Epoch 10/20\n",
      "20/20 - 1s - loss: 0.2397 - accuracy: 0.9355 - binary_crossentropy: 0.2397 - val_loss: 0.3284 - val_accuracy: 0.8745 - val_binary_crossentropy: 0.3284\n",
      "Epoch 11/20\n",
      "20/20 - 1s - loss: 0.2151 - accuracy: 0.9437 - binary_crossentropy: 0.2151 - val_loss: 0.3187 - val_accuracy: 0.8765 - val_binary_crossentropy: 0.3187\n",
      "Epoch 12/20\n",
      "20/20 - 1s - loss: 0.1949 - accuracy: 0.9489 - binary_crossentropy: 0.1949 - val_loss: 0.3115 - val_accuracy: 0.8755 - val_binary_crossentropy: 0.3115\n",
      "Epoch 13/20\n",
      "20/20 - 1s - loss: 0.1766 - accuracy: 0.9560 - binary_crossentropy: 0.1766 - val_loss: 0.3071 - val_accuracy: 0.8746 - val_binary_crossentropy: 0.3071\n",
      "Epoch 14/20\n",
      "20/20 - 1s - loss: 0.1611 - accuracy: 0.9611 - binary_crossentropy: 0.1611 - val_loss: 0.3053 - val_accuracy: 0.8743 - val_binary_crossentropy: 0.3053\n",
      "Epoch 15/20\n",
      "20/20 - 1s - loss: 0.1468 - accuracy: 0.9660 - binary_crossentropy: 0.1468 - val_loss: 0.3044 - val_accuracy: 0.8742 - val_binary_crossentropy: 0.3044\n",
      "Epoch 16/20\n",
      "20/20 - 1s - loss: 0.1345 - accuracy: 0.9695 - binary_crossentropy: 0.1345 - val_loss: 0.3050 - val_accuracy: 0.8736 - val_binary_crossentropy: 0.3050\n",
      "Epoch 17/20\n",
      "20/20 - 1s - loss: 0.1233 - accuracy: 0.9719 - binary_crossentropy: 0.1233 - val_loss: 0.3062 - val_accuracy: 0.8739 - val_binary_crossentropy: 0.3062\n",
      "Epoch 18/20\n",
      "20/20 - 1s - loss: 0.1132 - accuracy: 0.9759 - binary_crossentropy: 0.1132 - val_loss: 0.3082 - val_accuracy: 0.8736 - val_binary_crossentropy: 0.3082\n",
      "Epoch 19/20\n",
      "20/20 - 1s - loss: 0.1042 - accuracy: 0.9786 - binary_crossentropy: 0.1042 - val_loss: 0.3113 - val_accuracy: 0.8746 - val_binary_crossentropy: 0.3113\n",
      "Epoch 20/20\n",
      "20/20 - 1s - loss: 0.0955 - accuracy: 0.9817 - binary_crossentropy: 0.0955 - val_loss: 0.3156 - val_accuracy: 0.8724 - val_binary_crossentropy: 0.3156\n"
     ]
    }
   ],
   "metadata": {}
  },
  {
   "cell_type": "code",
   "execution_count": 12,
   "source": [
    "bigger_model = keras.models.Sequential([\n",
    "    keras.layers.Dense(512, activation='relu', input_shape=(NUM_WORDS,)),\n",
    "    keras.layers.Dense(512, activation='relu'),\n",
    "    keras.layers.Dense(1, activation='sigmoid')\n",
    "])\n",
    "\n",
    "bigger_model.compile(optimizer='adam',\n",
    "                     loss='binary_crossentropy',\n",
    "                     metrics=['accuracy','binary_crossentropy'])\n",
    "\n",
    "bigger_model.summary()"
   ],
   "outputs": [
    {
     "output_type": "stream",
     "name": "stdout",
     "text": [
      "Model: \"sequential_3\"\n",
      "_________________________________________________________________\n",
      "Layer (type)                 Output Shape              Param #   \n",
      "=================================================================\n",
      "dense_9 (Dense)              (None, 512)               5120512   \n",
      "_________________________________________________________________\n",
      "dense_10 (Dense)             (None, 512)               262656    \n",
      "_________________________________________________________________\n",
      "dense_11 (Dense)             (None, 1)                 513       \n",
      "=================================================================\n",
      "Total params: 5,383,681\n",
      "Trainable params: 5,383,681\n",
      "Non-trainable params: 0\n",
      "_________________________________________________________________\n"
     ]
    }
   ],
   "metadata": {}
  },
  {
   "cell_type": "code",
   "execution_count": 13,
   "source": [
    "bigger_history = bigger_model.fit(train_data, train_labels,\n",
    "                                  epochs=20,\n",
    "                                  batch_size=512,\n",
    "                                  validation_data=(test_data, test_labels),\n",
    "                                  verbose=2)"
   ],
   "outputs": [
    {
     "output_type": "stream",
     "name": "stdout",
     "text": [
      "Epoch 1/20\n"
     ]
    }
   ],
   "metadata": {}
  },
  {
   "cell_type": "code",
   "execution_count": null,
   "source": [
    "def plot_history(histories, key='binary_crossentropy'):\n",
    "  plt.figure(figsize=(16,10))\n",
    "\n",
    "  for name, history in histories:\n",
    "    val = plt.plot(history.epoch, history.history['val_'+key],\n",
    "                   '--', label=name.title()+' Val')\n",
    "    plt.plot(history.epoch, history.history[key], color=val[0].get_color(),\n",
    "             label=name.title()+' Train')\n",
    "\n",
    "  plt.xlabel('Epochs')\n",
    "  plt.ylabel(key.replace('_',' ').title())\n",
    "  plt.legend()\n",
    "\n",
    "  plt.xlim([0,max(history.epoch)])\n",
    "\n",
    "\n",
    "plot_history([('baseline', baseline_history),\n",
    "              ('smaller', smaller_history),\n",
    "              ('bigger', bigger_history)])"
   ],
   "outputs": [
    {
     "output_type": "error",
     "ename": "Error",
     "evalue": "Session cannot generate requests",
     "traceback": [
      "Error: Session cannot generate requests",
      "at w.executeCodeCell (/root/.vscode-server-insiders/extensions/ms-toolsai.jupyter-2021.8.993044620/out/client/extension.js:90:320067)",
      "at w.execute (/root/.vscode-server-insiders/extensions/ms-toolsai.jupyter-2021.8.993044620/out/client/extension.js:90:319388)",
      "at w.start (/root/.vscode-server-insiders/extensions/ms-toolsai.jupyter-2021.8.993044620/out/client/extension.js:90:315204)",
      "at runMicrotasks (<anonymous>)",
      "at processTicksAndRejections (internal/process/task_queues.js:93:5)",
      "at async t.CellExecutionQueue.executeQueuedCells (/root/.vscode-server-insiders/extensions/ms-toolsai.jupyter-2021.8.993044620/out/client/extension.js:90:329731)",
      "at async t.CellExecutionQueue.start (/root/.vscode-server-insiders/extensions/ms-toolsai.jupyter-2021.8.993044620/out/client/extension.js:90:329271)"
     ]
    }
   ],
   "metadata": {}
  },
  {
   "cell_type": "code",
   "execution_count": null,
   "source": [
    "l2_model = keras.models.Sequential([\n",
    "    keras.layers.Dense(16, kernel_regularizer=keras.regularizers.l2(0.001),\n",
    "                       activation='relu', input_shape=(NUM_WORDS,)),\n",
    "    keras.layers.Dense(16, kernel_regularizer=keras.regularizers.l2(0.001),\n",
    "                       activation='relu'),\n",
    "    keras.layers.Dense(1, activation='sigmoid')\n",
    "])\n",
    "\n",
    "l2_model.compile(optimizer='adam',\n",
    "                 loss='binary_crossentropy',\n",
    "                 metrics=['accuracy', 'binary_crossentropy'])\n",
    "\n",
    "l2_model_history = l2_model.fit(train_data, train_labels,\n",
    "                                epochs=20,\n",
    "                                batch_size=512,\n",
    "                                validation_data=(test_data, test_labels),\n",
    "                                verbose=2)"
   ],
   "outputs": [
    {
     "output_type": "error",
     "ename": "Error",
     "evalue": "Session cannot generate requests",
     "traceback": [
      "Error: Session cannot generate requests",
      "at w.executeCodeCell (/root/.vscode-server-insiders/extensions/ms-toolsai.jupyter-2021.8.993044620/out/client/extension.js:90:320067)",
      "at w.execute (/root/.vscode-server-insiders/extensions/ms-toolsai.jupyter-2021.8.993044620/out/client/extension.js:90:319388)",
      "at w.start (/root/.vscode-server-insiders/extensions/ms-toolsai.jupyter-2021.8.993044620/out/client/extension.js:90:315204)",
      "at runMicrotasks (<anonymous>)",
      "at processTicksAndRejections (internal/process/task_queues.js:93:5)",
      "at async t.CellExecutionQueue.executeQueuedCells (/root/.vscode-server-insiders/extensions/ms-toolsai.jupyter-2021.8.993044620/out/client/extension.js:90:329731)",
      "at async t.CellExecutionQueue.start (/root/.vscode-server-insiders/extensions/ms-toolsai.jupyter-2021.8.993044620/out/client/extension.js:90:329271)"
     ]
    }
   ],
   "metadata": {}
  },
  {
   "cell_type": "code",
   "execution_count": null,
   "source": [
    "plot_history([('baseline', baseline_history),\n",
    "              ('l2', l2_model_history)])"
   ],
   "outputs": [
    {
     "output_type": "error",
     "ename": "Error",
     "evalue": "Session cannot generate requests",
     "traceback": [
      "Error: Session cannot generate requests",
      "at w.executeCodeCell (/root/.vscode-server-insiders/extensions/ms-toolsai.jupyter-2021.8.993044620/out/client/extension.js:90:320067)",
      "at w.execute (/root/.vscode-server-insiders/extensions/ms-toolsai.jupyter-2021.8.993044620/out/client/extension.js:90:319388)",
      "at w.start (/root/.vscode-server-insiders/extensions/ms-toolsai.jupyter-2021.8.993044620/out/client/extension.js:90:315204)",
      "at runMicrotasks (<anonymous>)",
      "at processTicksAndRejections (internal/process/task_queues.js:93:5)",
      "at async t.CellExecutionQueue.executeQueuedCells (/root/.vscode-server-insiders/extensions/ms-toolsai.jupyter-2021.8.993044620/out/client/extension.js:90:329731)",
      "at async t.CellExecutionQueue.start (/root/.vscode-server-insiders/extensions/ms-toolsai.jupyter-2021.8.993044620/out/client/extension.js:90:329271)"
     ]
    }
   ],
   "metadata": {}
  },
  {
   "cell_type": "code",
   "execution_count": null,
   "source": [
    "dpt_model = keras.models.Sequential([\n",
    "    keras.layers.Dense(16, activation='relu', input_shape=(NUM_WORDS,)),\n",
    "    keras.layers.Dropout(0.5),\n",
    "    keras.layers.Dense(16, activation='relu'),\n",
    "    keras.layers.Dropout(0.5),\n",
    "    keras.layers.Dense(1, activation='sigmoid')\n",
    "])\n",
    "\n",
    "dpt_model.compile(optimizer='adam',\n",
    "                  loss='binary_crossentropy',\n",
    "                  metrics=['accuracy','binary_crossentropy'])\n",
    "\n",
    "dpt_model_history = dpt_model.fit(train_data, train_labels,\n",
    "                                  epochs=20,\n",
    "                                  batch_size=512,\n",
    "                                  validation_data=(test_data, test_labels),\n",
    "                                  verbose=2)"
   ],
   "outputs": [
    {
     "output_type": "error",
     "ename": "Error",
     "evalue": "Session cannot generate requests",
     "traceback": [
      "Error: Session cannot generate requests",
      "at w.executeCodeCell (/root/.vscode-server-insiders/extensions/ms-toolsai.jupyter-2021.8.993044620/out/client/extension.js:90:320067)",
      "at w.execute (/root/.vscode-server-insiders/extensions/ms-toolsai.jupyter-2021.8.993044620/out/client/extension.js:90:319388)",
      "at w.start (/root/.vscode-server-insiders/extensions/ms-toolsai.jupyter-2021.8.993044620/out/client/extension.js:90:315204)",
      "at runMicrotasks (<anonymous>)",
      "at processTicksAndRejections (internal/process/task_queues.js:93:5)",
      "at async t.CellExecutionQueue.executeQueuedCells (/root/.vscode-server-insiders/extensions/ms-toolsai.jupyter-2021.8.993044620/out/client/extension.js:90:329731)",
      "at async t.CellExecutionQueue.start (/root/.vscode-server-insiders/extensions/ms-toolsai.jupyter-2021.8.993044620/out/client/extension.js:90:329271)"
     ]
    }
   ],
   "metadata": {}
  },
  {
   "cell_type": "code",
   "execution_count": null,
   "source": [
    "plot_history([('baseline', baseline_history),\n",
    "              ('dropout', dpt_model_history)])"
   ],
   "outputs": [
    {
     "output_type": "error",
     "ename": "Error",
     "evalue": "Session cannot generate requests",
     "traceback": [
      "Error: Session cannot generate requests",
      "at w.executeCodeCell (/root/.vscode-server-insiders/extensions/ms-toolsai.jupyter-2021.8.993044620/out/client/extension.js:90:320067)",
      "at w.execute (/root/.vscode-server-insiders/extensions/ms-toolsai.jupyter-2021.8.993044620/out/client/extension.js:90:319388)",
      "at w.start (/root/.vscode-server-insiders/extensions/ms-toolsai.jupyter-2021.8.993044620/out/client/extension.js:90:315204)",
      "at runMicrotasks (<anonymous>)",
      "at processTicksAndRejections (internal/process/task_queues.js:93:5)",
      "at async t.CellExecutionQueue.executeQueuedCells (/root/.vscode-server-insiders/extensions/ms-toolsai.jupyter-2021.8.993044620/out/client/extension.js:90:329731)",
      "at async t.CellExecutionQueue.start (/root/.vscode-server-insiders/extensions/ms-toolsai.jupyter-2021.8.993044620/out/client/extension.js:90:329271)"
     ]
    }
   ],
   "metadata": {}
  },
  {
   "cell_type": "code",
   "execution_count": null,
   "source": [],
   "outputs": [],
   "metadata": {}
  }
 ],
 "metadata": {
  "orig_nbformat": 4,
  "language_info": {
   "name": "python"
  }
 },
 "nbformat": 4,
 "nbformat_minor": 2
}