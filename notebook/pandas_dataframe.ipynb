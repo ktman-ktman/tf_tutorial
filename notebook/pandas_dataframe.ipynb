{
 "cells": [
  {
   "cell_type": "markdown",
   "source": [
    "# tf.data を使って pandas の DataFrame をロードする\n",
    "\n",
    "https://www.tensorflow.org/tutorials/load_data/pandas_dataframe"
   ],
   "metadata": {}
  },
  {
   "cell_type": "code",
   "execution_count": 23,
   "source": [
    "import pandas as pd\n",
    "import tensorflow as tf"
   ],
   "outputs": [],
   "metadata": {}
  },
  {
   "cell_type": "code",
   "execution_count": 24,
   "source": [
    "#csv_file = tf.keras.utils.get_file('heart.csv', 'https://storage.googleapis.com/applied-dl/heart.csv')\n",
    "csv_file = tf.keras.utils.get_file('heart.csv', 'https://raw.githubusercontent.com/rashida048/Datasets/master/Heart.csv')"
   ],
   "outputs": [],
   "metadata": {}
  },
  {
   "cell_type": "code",
   "execution_count": 25,
   "source": [
    "df = pd.read_csv(csv_file, index_col=0).reset_index(drop=True)\n",
    "df.columns = df.columns.str.lower()"
   ],
   "outputs": [],
   "metadata": {}
  },
  {
   "cell_type": "code",
   "execution_count": 26,
   "source": [
    "df.head()"
   ],
   "outputs": [
    {
     "output_type": "execute_result",
     "data": {
      "text/plain": [
       "   age  sex     chestpain  restbp  chol  fbs  restecg  maxhr  exang  oldpeak  \\\n",
       "0   63    1       typical     145   233    1        2    150      0      2.3   \n",
       "1   67    1  asymptomatic     160   286    0        2    108      1      1.5   \n",
       "2   67    1  asymptomatic     120   229    0        2    129      1      2.6   \n",
       "3   37    1    nonanginal     130   250    0        0    187      0      3.5   \n",
       "4   41    0    nontypical     130   204    0        2    172      0      1.4   \n",
       "\n",
       "   slope   ca        thal  ahd  \n",
       "0      3  0.0       fixed   No  \n",
       "1      2  3.0      normal  Yes  \n",
       "2      2  2.0  reversable  Yes  \n",
       "3      3  0.0      normal   No  \n",
       "4      1  0.0      normal   No  "
      ],
      "text/html": [
       "<div>\n",
       "<style scoped>\n",
       "    .dataframe tbody tr th:only-of-type {\n",
       "        vertical-align: middle;\n",
       "    }\n",
       "\n",
       "    .dataframe tbody tr th {\n",
       "        vertical-align: top;\n",
       "    }\n",
       "\n",
       "    .dataframe thead th {\n",
       "        text-align: right;\n",
       "    }\n",
       "</style>\n",
       "<table border=\"1\" class=\"dataframe\">\n",
       "  <thead>\n",
       "    <tr style=\"text-align: right;\">\n",
       "      <th></th>\n",
       "      <th>age</th>\n",
       "      <th>sex</th>\n",
       "      <th>chestpain</th>\n",
       "      <th>restbp</th>\n",
       "      <th>chol</th>\n",
       "      <th>fbs</th>\n",
       "      <th>restecg</th>\n",
       "      <th>maxhr</th>\n",
       "      <th>exang</th>\n",
       "      <th>oldpeak</th>\n",
       "      <th>slope</th>\n",
       "      <th>ca</th>\n",
       "      <th>thal</th>\n",
       "      <th>ahd</th>\n",
       "    </tr>\n",
       "  </thead>\n",
       "  <tbody>\n",
       "    <tr>\n",
       "      <th>0</th>\n",
       "      <td>63</td>\n",
       "      <td>1</td>\n",
       "      <td>typical</td>\n",
       "      <td>145</td>\n",
       "      <td>233</td>\n",
       "      <td>1</td>\n",
       "      <td>2</td>\n",
       "      <td>150</td>\n",
       "      <td>0</td>\n",
       "      <td>2.3</td>\n",
       "      <td>3</td>\n",
       "      <td>0.0</td>\n",
       "      <td>fixed</td>\n",
       "      <td>No</td>\n",
       "    </tr>\n",
       "    <tr>\n",
       "      <th>1</th>\n",
       "      <td>67</td>\n",
       "      <td>1</td>\n",
       "      <td>asymptomatic</td>\n",
       "      <td>160</td>\n",
       "      <td>286</td>\n",
       "      <td>0</td>\n",
       "      <td>2</td>\n",
       "      <td>108</td>\n",
       "      <td>1</td>\n",
       "      <td>1.5</td>\n",
       "      <td>2</td>\n",
       "      <td>3.0</td>\n",
       "      <td>normal</td>\n",
       "      <td>Yes</td>\n",
       "    </tr>\n",
       "    <tr>\n",
       "      <th>2</th>\n",
       "      <td>67</td>\n",
       "      <td>1</td>\n",
       "      <td>asymptomatic</td>\n",
       "      <td>120</td>\n",
       "      <td>229</td>\n",
       "      <td>0</td>\n",
       "      <td>2</td>\n",
       "      <td>129</td>\n",
       "      <td>1</td>\n",
       "      <td>2.6</td>\n",
       "      <td>2</td>\n",
       "      <td>2.0</td>\n",
       "      <td>reversable</td>\n",
       "      <td>Yes</td>\n",
       "    </tr>\n",
       "    <tr>\n",
       "      <th>3</th>\n",
       "      <td>37</td>\n",
       "      <td>1</td>\n",
       "      <td>nonanginal</td>\n",
       "      <td>130</td>\n",
       "      <td>250</td>\n",
       "      <td>0</td>\n",
       "      <td>0</td>\n",
       "      <td>187</td>\n",
       "      <td>0</td>\n",
       "      <td>3.5</td>\n",
       "      <td>3</td>\n",
       "      <td>0.0</td>\n",
       "      <td>normal</td>\n",
       "      <td>No</td>\n",
       "    </tr>\n",
       "    <tr>\n",
       "      <th>4</th>\n",
       "      <td>41</td>\n",
       "      <td>0</td>\n",
       "      <td>nontypical</td>\n",
       "      <td>130</td>\n",
       "      <td>204</td>\n",
       "      <td>0</td>\n",
       "      <td>2</td>\n",
       "      <td>172</td>\n",
       "      <td>0</td>\n",
       "      <td>1.4</td>\n",
       "      <td>1</td>\n",
       "      <td>0.0</td>\n",
       "      <td>normal</td>\n",
       "      <td>No</td>\n",
       "    </tr>\n",
       "  </tbody>\n",
       "</table>\n",
       "</div>"
      ]
     },
     "metadata": {},
     "execution_count": 26
    }
   ],
   "metadata": {}
  },
  {
   "cell_type": "code",
   "execution_count": 27,
   "source": [
    "df.dtypes"
   ],
   "outputs": [
    {
     "output_type": "execute_result",
     "data": {
      "text/plain": [
       "age            int64\n",
       "sex            int64\n",
       "chestpain     object\n",
       "restbp         int64\n",
       "chol           int64\n",
       "fbs            int64\n",
       "restecg        int64\n",
       "maxhr          int64\n",
       "exang          int64\n",
       "oldpeak      float64\n",
       "slope          int64\n",
       "ca           float64\n",
       "thal          object\n",
       "ahd           object\n",
       "dtype: object"
      ]
     },
     "metadata": {},
     "execution_count": 27
    }
   ],
   "metadata": {}
  },
  {
   "cell_type": "code",
   "execution_count": 28,
   "source": [
    "df['thal'] = pd.Categorical(df['thal'])\n",
    "df['thal'] = df.thal.cat.codes\n",
    "df['chestpain'] = pd.Categorical(df['chestpain'])\n",
    "df['chestpain'] = df.chestpain.cat.codes\n",
    "df['ahd'] = pd.Categorical(df['ahd'])\n",
    "df['ahd'] = df.ahd.cat.codes"
   ],
   "outputs": [],
   "metadata": {}
  },
  {
   "cell_type": "code",
   "execution_count": 29,
   "source": [
    "df.head()"
   ],
   "outputs": [
    {
     "output_type": "execute_result",
     "data": {
      "text/plain": [
       "   age  sex  chestpain  restbp  chol  fbs  restecg  maxhr  exang  oldpeak  \\\n",
       "0   63    1          3     145   233    1        2    150      0      2.3   \n",
       "1   67    1          0     160   286    0        2    108      1      1.5   \n",
       "2   67    1          0     120   229    0        2    129      1      2.6   \n",
       "3   37    1          1     130   250    0        0    187      0      3.5   \n",
       "4   41    0          2     130   204    0        2    172      0      1.4   \n",
       "\n",
       "   slope   ca  thal  ahd  \n",
       "0      3  0.0     0    0  \n",
       "1      2  3.0     1    1  \n",
       "2      2  2.0     2    1  \n",
       "3      3  0.0     1    0  \n",
       "4      1  0.0     1    0  "
      ],
      "text/html": [
       "<div>\n",
       "<style scoped>\n",
       "    .dataframe tbody tr th:only-of-type {\n",
       "        vertical-align: middle;\n",
       "    }\n",
       "\n",
       "    .dataframe tbody tr th {\n",
       "        vertical-align: top;\n",
       "    }\n",
       "\n",
       "    .dataframe thead th {\n",
       "        text-align: right;\n",
       "    }\n",
       "</style>\n",
       "<table border=\"1\" class=\"dataframe\">\n",
       "  <thead>\n",
       "    <tr style=\"text-align: right;\">\n",
       "      <th></th>\n",
       "      <th>age</th>\n",
       "      <th>sex</th>\n",
       "      <th>chestpain</th>\n",
       "      <th>restbp</th>\n",
       "      <th>chol</th>\n",
       "      <th>fbs</th>\n",
       "      <th>restecg</th>\n",
       "      <th>maxhr</th>\n",
       "      <th>exang</th>\n",
       "      <th>oldpeak</th>\n",
       "      <th>slope</th>\n",
       "      <th>ca</th>\n",
       "      <th>thal</th>\n",
       "      <th>ahd</th>\n",
       "    </tr>\n",
       "  </thead>\n",
       "  <tbody>\n",
       "    <tr>\n",
       "      <th>0</th>\n",
       "      <td>63</td>\n",
       "      <td>1</td>\n",
       "      <td>3</td>\n",
       "      <td>145</td>\n",
       "      <td>233</td>\n",
       "      <td>1</td>\n",
       "      <td>2</td>\n",
       "      <td>150</td>\n",
       "      <td>0</td>\n",
       "      <td>2.3</td>\n",
       "      <td>3</td>\n",
       "      <td>0.0</td>\n",
       "      <td>0</td>\n",
       "      <td>0</td>\n",
       "    </tr>\n",
       "    <tr>\n",
       "      <th>1</th>\n",
       "      <td>67</td>\n",
       "      <td>1</td>\n",
       "      <td>0</td>\n",
       "      <td>160</td>\n",
       "      <td>286</td>\n",
       "      <td>0</td>\n",
       "      <td>2</td>\n",
       "      <td>108</td>\n",
       "      <td>1</td>\n",
       "      <td>1.5</td>\n",
       "      <td>2</td>\n",
       "      <td>3.0</td>\n",
       "      <td>1</td>\n",
       "      <td>1</td>\n",
       "    </tr>\n",
       "    <tr>\n",
       "      <th>2</th>\n",
       "      <td>67</td>\n",
       "      <td>1</td>\n",
       "      <td>0</td>\n",
       "      <td>120</td>\n",
       "      <td>229</td>\n",
       "      <td>0</td>\n",
       "      <td>2</td>\n",
       "      <td>129</td>\n",
       "      <td>1</td>\n",
       "      <td>2.6</td>\n",
       "      <td>2</td>\n",
       "      <td>2.0</td>\n",
       "      <td>2</td>\n",
       "      <td>1</td>\n",
       "    </tr>\n",
       "    <tr>\n",
       "      <th>3</th>\n",
       "      <td>37</td>\n",
       "      <td>1</td>\n",
       "      <td>1</td>\n",
       "      <td>130</td>\n",
       "      <td>250</td>\n",
       "      <td>0</td>\n",
       "      <td>0</td>\n",
       "      <td>187</td>\n",
       "      <td>0</td>\n",
       "      <td>3.5</td>\n",
       "      <td>3</td>\n",
       "      <td>0.0</td>\n",
       "      <td>1</td>\n",
       "      <td>0</td>\n",
       "    </tr>\n",
       "    <tr>\n",
       "      <th>4</th>\n",
       "      <td>41</td>\n",
       "      <td>0</td>\n",
       "      <td>2</td>\n",
       "      <td>130</td>\n",
       "      <td>204</td>\n",
       "      <td>0</td>\n",
       "      <td>2</td>\n",
       "      <td>172</td>\n",
       "      <td>0</td>\n",
       "      <td>1.4</td>\n",
       "      <td>1</td>\n",
       "      <td>0.0</td>\n",
       "      <td>1</td>\n",
       "      <td>0</td>\n",
       "    </tr>\n",
       "  </tbody>\n",
       "</table>\n",
       "</div>"
      ]
     },
     "metadata": {},
     "execution_count": 29
    }
   ],
   "metadata": {}
  },
  {
   "cell_type": "code",
   "execution_count": 30,
   "source": [
    "target = df.pop('ahd')"
   ],
   "outputs": [],
   "metadata": {}
  },
  {
   "cell_type": "code",
   "execution_count": 31,
   "source": [
    "dataset = tf.data.Dataset.from_tensor_slices((df.values, target.values))"
   ],
   "outputs": [],
   "metadata": {}
  },
  {
   "cell_type": "code",
   "execution_count": 33,
   "source": [
    "for feat, targ in dataset.take(5):\n",
    "  print ('Features: {}, Target: {}'.format(feat, targ))"
   ],
   "outputs": [
    {
     "output_type": "stream",
     "name": "stdout",
     "text": [
      "Features: [ 63.    1.    3.  145.  233.    1.    2.  150.    0.    2.3   3.    0.\n",
      "   0. ], Target: 0\n",
      "Features: [ 67.    1.    0.  160.  286.    0.    2.  108.    1.    1.5   2.    3.\n",
      "   1. ], Target: 1\n",
      "Features: [ 67.    1.    0.  120.  229.    0.    2.  129.    1.    2.6   2.    2.\n",
      "   2. ], Target: 1\n",
      "Features: [ 37.    1.    1.  130.  250.    0.    0.  187.    0.    3.5   3.    0.\n",
      "   1. ], Target: 0\n",
      "Features: [ 41.    0.    2.  130.  204.    0.    2.  172.    0.    1.4   1.    0.\n",
      "   1. ], Target: 0\n"
     ]
    }
   ],
   "metadata": {}
  },
  {
   "cell_type": "code",
   "execution_count": 34,
   "source": [
    "tf.constant(df['thal'])"
   ],
   "outputs": [
    {
     "output_type": "execute_result",
     "data": {
      "text/plain": [
       "<tf.Tensor: shape=(303,), dtype=int8, numpy=\n",
       "array([ 0,  1,  2,  1,  1,  1,  1,  1,  2,  2,  0,  1,  0,  2,  2,  1,  2,\n",
       "        1,  1,  1,  1,  1,  1,  2,  2,  1,  1,  1,  1,  2,  1,  2,  1,  2,\n",
       "        1,  1,  2,  0,  2,  1,  2,  2,  1,  1,  1,  2,  1,  2,  1,  1,  1,\n",
       "        2,  1,  1,  2,  2,  2,  2,  1,  1,  2,  1,  2,  1,  2,  2,  1,  2,\n",
       "        2,  1,  1,  2,  2,  0,  1,  1,  2,  1,  1,  2,  1,  1,  1,  2,  1,\n",
       "        1,  1, -1,  1,  1,  1,  2,  2,  1,  1,  2,  2,  2,  1,  1,  1,  1,\n",
       "        1,  1,  2,  2,  2,  2,  2,  2,  2,  1,  0,  2,  2,  0,  1,  1,  2,\n",
       "        2,  2,  2,  1,  2,  1,  1,  2,  2,  1,  1,  2,  2,  1,  1,  1,  1,\n",
       "        2,  2,  2,  1,  1,  2,  1,  2,  2,  1,  2,  1,  1,  1,  2,  1,  2,\n",
       "        2,  1,  1,  2,  2,  2,  2,  2,  1,  1,  1,  1,  2,  1,  1,  2,  1,\n",
       "        2,  2,  1,  1,  0,  2,  2,  0,  1,  1,  2,  2,  1,  2,  1,  1,  2,\n",
       "        0,  2,  2,  1,  2,  2,  1,  1,  1,  1,  1,  1,  1,  1,  1,  2,  2,\n",
       "        2,  2,  2,  2,  1,  1,  1,  2,  1,  2,  1,  2,  1,  1,  1,  1,  1,\n",
       "        1,  1,  2,  1,  1,  1,  1,  1,  1,  1,  1,  1,  1,  1,  1,  2,  2,\n",
       "        1,  1,  1,  1,  1,  1,  1,  1,  2,  1,  2,  1,  0,  2,  2,  1,  1,\n",
       "        1,  1,  1,  1,  2,  1,  1,  1,  1,  1,  0, -1,  0,  2,  1,  2,  0,\n",
       "        2,  1,  1,  2,  1,  1,  1,  1,  2,  1,  2,  1,  2,  0,  0,  2,  2,\n",
       "        1,  2,  1,  0,  2,  1,  1,  0,  2,  2,  2,  2,  1,  1], dtype=int8)>"
      ]
     },
     "metadata": {},
     "execution_count": 34
    }
   ],
   "metadata": {}
  },
  {
   "cell_type": "code",
   "execution_count": 35,
   "source": [
    "train_dataset = dataset.shuffle(len(df)).batch(1)"
   ],
   "outputs": [],
   "metadata": {}
  },
  {
   "cell_type": "code",
   "execution_count": 36,
   "source": [
    "def get_compiled_model():\n",
    "  model = tf.keras.Sequential([\n",
    "    tf.keras.layers.Dense(10, activation='relu'),\n",
    "    tf.keras.layers.Dense(10, activation='relu'),\n",
    "    tf.keras.layers.Dense(1, activation='sigmoid')\n",
    "  ])\n",
    "\n",
    "  model.compile(optimizer='adam',\n",
    "                loss='binary_crossentropy',\n",
    "                metrics=['accuracy'])\n",
    "  return model"
   ],
   "outputs": [],
   "metadata": {}
  },
  {
   "cell_type": "code",
   "execution_count": 37,
   "source": [
    "model = get_compiled_model()\n",
    "model.fit(train_dataset, epochs=15)"
   ],
   "outputs": [
    {
     "output_type": "stream",
     "name": "stdout",
     "text": [
      "Epoch 1/15\n",
      "303/303 [==============================] - 1s 1ms/step - loss: nan - accuracy: 0.5314\n",
      "Epoch 2/15\n",
      "303/303 [==============================] - 0s 993us/step - loss: nan - accuracy: 0.5413\n",
      "Epoch 3/15\n",
      "303/303 [==============================] - 0s 1ms/step - loss: nan - accuracy: 0.5413\n",
      "Epoch 4/15\n",
      "303/303 [==============================] - 0s 949us/step - loss: nan - accuracy: 0.5413\n",
      "Epoch 5/15\n",
      "303/303 [==============================] - 0s 938us/step - loss: nan - accuracy: 0.5413\n",
      "Epoch 6/15\n",
      "303/303 [==============================] - 0s 1ms/step - loss: nan - accuracy: 0.5413\n",
      "Epoch 7/15\n",
      "303/303 [==============================] - 0s 1ms/step - loss: nan - accuracy: 0.5413\n",
      "Epoch 8/15\n",
      "303/303 [==============================] - 0s 1ms/step - loss: nan - accuracy: 0.5413\n",
      "Epoch 9/15\n",
      "303/303 [==============================] - 0s 1ms/step - loss: nan - accuracy: 0.5413\n",
      "Epoch 10/15\n",
      "303/303 [==============================] - 0s 934us/step - loss: nan - accuracy: 0.5413\n",
      "Epoch 11/15\n",
      "303/303 [==============================] - 0s 969us/step - loss: nan - accuracy: 0.5413\n",
      "Epoch 12/15\n",
      "303/303 [==============================] - 0s 899us/step - loss: nan - accuracy: 0.5413\n",
      "Epoch 13/15\n",
      "303/303 [==============================] - 0s 904us/step - loss: nan - accuracy: 0.5413\n",
      "Epoch 14/15\n",
      "303/303 [==============================] - 0s 925us/step - loss: nan - accuracy: 0.5413\n",
      "Epoch 15/15\n",
      "303/303 [==============================] - 0s 1ms/step - loss: nan - accuracy: 0.5413\n"
     ]
    },
    {
     "output_type": "execute_result",
     "data": {
      "text/plain": [
       "<tensorflow.python.keras.callbacks.History at 0x7fc43e467c10>"
      ]
     },
     "metadata": {},
     "execution_count": 37
    }
   ],
   "metadata": {}
  },
  {
   "cell_type": "code",
   "execution_count": 38,
   "source": [
    "inputs = {key: tf.keras.layers.Input(shape=(), name=key) for key in df.keys()}\n",
    "x = tf.stack(list(inputs.values()), axis=-1)\n",
    "\n",
    "x = tf.keras.layers.Dense(10, activation='relu')(x)\n",
    "output = tf.keras.layers.Dense(1, activation='sigmoid')(x)\n",
    "\n",
    "model_func = tf.keras.Model(inputs=inputs, outputs=output)\n",
    "\n",
    "model_func.compile(optimizer='adam',\n",
    "                   loss='binary_crossentropy',\n",
    "                   metrics=['accuracy'])"
   ],
   "outputs": [],
   "metadata": {}
  },
  {
   "cell_type": "code",
   "execution_count": 39,
   "source": [
    "dict_slices = tf.data.Dataset.from_tensor_slices((df.to_dict('list'), target.values)).batch(16)"
   ],
   "outputs": [],
   "metadata": {}
  },
  {
   "cell_type": "code",
   "execution_count": 40,
   "source": [
    "for dict_slice in dict_slices.take(1):\n",
    "  print (dict_slice)"
   ],
   "outputs": [
    {
     "output_type": "stream",
     "name": "stdout",
     "text": [
      "({'age': <tf.Tensor: shape=(16,), dtype=int32, numpy=\n",
      "array([63, 67, 67, 37, 41, 56, 62, 57, 63, 53, 57, 56, 56, 44, 52, 57],\n",
      "      dtype=int32)>, 'sex': <tf.Tensor: shape=(16,), dtype=int32, numpy=array([1, 1, 1, 1, 0, 1, 0, 0, 1, 1, 1, 0, 1, 1, 1, 1], dtype=int32)>, 'chestpain': <tf.Tensor: shape=(16,), dtype=int32, numpy=array([3, 0, 0, 1, 2, 2, 0, 0, 0, 0, 0, 2, 1, 2, 1, 1], dtype=int32)>, 'restbp': <tf.Tensor: shape=(16,), dtype=int32, numpy=\n",
      "array([145, 160, 120, 130, 130, 120, 140, 120, 130, 140, 140, 140, 130,\n",
      "       120, 172, 150], dtype=int32)>, 'chol': <tf.Tensor: shape=(16,), dtype=int32, numpy=\n",
      "array([233, 286, 229, 250, 204, 236, 268, 354, 254, 203, 192, 294, 256,\n",
      "       263, 199, 168], dtype=int32)>, 'fbs': <tf.Tensor: shape=(16,), dtype=int32, numpy=array([1, 0, 0, 0, 0, 0, 0, 0, 0, 1, 0, 0, 1, 0, 1, 0], dtype=int32)>, 'restecg': <tf.Tensor: shape=(16,), dtype=int32, numpy=array([2, 2, 2, 0, 2, 0, 2, 0, 2, 2, 0, 2, 2, 0, 0, 0], dtype=int32)>, 'maxhr': <tf.Tensor: shape=(16,), dtype=int32, numpy=\n",
      "array([150, 108, 129, 187, 172, 178, 160, 163, 147, 155, 148, 153, 142,\n",
      "       173, 162, 174], dtype=int32)>, 'exang': <tf.Tensor: shape=(16,), dtype=int32, numpy=array([0, 1, 1, 0, 0, 0, 0, 1, 0, 1, 0, 0, 1, 0, 0, 0], dtype=int32)>, 'oldpeak': <tf.Tensor: shape=(16,), dtype=float32, numpy=\n",
      "array([2.3, 1.5, 2.6, 3.5, 1.4, 0.8, 3.6, 0.6, 1.4, 3.1, 0.4, 1.3, 0.6,\n",
      "       0. , 0.5, 1.6], dtype=float32)>, 'slope': <tf.Tensor: shape=(16,), dtype=int32, numpy=array([3, 2, 2, 3, 1, 1, 3, 1, 2, 3, 2, 2, 2, 1, 1, 1], dtype=int32)>, 'ca': <tf.Tensor: shape=(16,), dtype=float32, numpy=\n",
      "array([0., 3., 2., 0., 0., 0., 2., 0., 1., 0., 0., 0., 1., 0., 0., 0.],\n",
      "      dtype=float32)>, 'thal': <tf.Tensor: shape=(16,), dtype=int32, numpy=array([0, 1, 2, 1, 1, 1, 1, 1, 2, 2, 0, 1, 0, 2, 2, 1], dtype=int32)>}, <tf.Tensor: shape=(16,), dtype=int8, numpy=array([0, 1, 1, 0, 0, 0, 1, 0, 1, 1, 0, 0, 1, 0, 0, 0], dtype=int8)>)\n"
     ]
    }
   ],
   "metadata": {}
  },
  {
   "cell_type": "code",
   "execution_count": 41,
   "source": [
    "model_func.fit(dict_slices, epochs=15)"
   ],
   "outputs": [
    {
     "output_type": "stream",
     "name": "stdout",
     "text": [
      "Epoch 1/15\n",
      "19/19 [==============================] - 0s 2ms/step - loss: nan - accuracy: 0.5215\n",
      "Epoch 2/15\n",
      "19/19 [==============================] - 0s 2ms/step - loss: nan - accuracy: 0.5413\n",
      "Epoch 3/15\n",
      "19/19 [==============================] - 0s 2ms/step - loss: nan - accuracy: 0.5413\n",
      "Epoch 4/15\n",
      "19/19 [==============================] - 0s 2ms/step - loss: nan - accuracy: 0.5413\n",
      "Epoch 5/15\n",
      "19/19 [==============================] - 0s 2ms/step - loss: nan - accuracy: 0.5413\n",
      "Epoch 6/15\n",
      "19/19 [==============================] - 0s 2ms/step - loss: nan - accuracy: 0.5413\n",
      "Epoch 7/15\n",
      "19/19 [==============================] - 0s 2ms/step - loss: nan - accuracy: 0.5413\n",
      "Epoch 8/15\n",
      "19/19 [==============================] - 0s 2ms/step - loss: nan - accuracy: 0.5413\n",
      "Epoch 9/15\n",
      "19/19 [==============================] - 0s 2ms/step - loss: nan - accuracy: 0.5413\n",
      "Epoch 10/15\n",
      "19/19 [==============================] - 0s 2ms/step - loss: nan - accuracy: 0.5413\n",
      "Epoch 11/15\n",
      "19/19 [==============================] - 0s 2ms/step - loss: nan - accuracy: 0.5413\n",
      "Epoch 12/15\n",
      "19/19 [==============================] - 0s 2ms/step - loss: nan - accuracy: 0.5413\n",
      "Epoch 13/15\n",
      "19/19 [==============================] - 0s 2ms/step - loss: nan - accuracy: 0.5413\n",
      "Epoch 14/15\n",
      "19/19 [==============================] - 0s 2ms/step - loss: nan - accuracy: 0.5413\n",
      "Epoch 15/15\n",
      "19/19 [==============================] - 0s 2ms/step - loss: nan - accuracy: 0.5413\n"
     ]
    },
    {
     "output_type": "execute_result",
     "data": {
      "text/plain": [
       "<tensorflow.python.keras.callbacks.History at 0x7fc43d6fad90>"
      ]
     },
     "metadata": {},
     "execution_count": 41
    }
   ],
   "metadata": {}
  },
  {
   "cell_type": "code",
   "execution_count": null,
   "source": [],
   "outputs": [],
   "metadata": {}
  }
 ],
 "metadata": {
  "orig_nbformat": 4,
  "language_info": {
   "name": "python"
  }
 },
 "nbformat": 4,
 "nbformat_minor": 2
}