{
 "cells": [
  {
   "cell_type": "markdown",
   "source": [
    "# 初心者のための TensorFlow 2.0 入門\n",
    "\n",
    "https://www.tensorflow.org/tutorials/quickstart/beginner"
   ],
   "metadata": {}
  },
  {
   "cell_type": "code",
   "execution_count": 17,
   "source": [
    "import tensorflow as tf"
   ],
   "outputs": [],
   "metadata": {}
  },
  {
   "cell_type": "code",
   "execution_count": 18,
   "source": [
    "mnist = tf.keras.datasets.mnist\n",
    "\n",
    "(X_train, y_train), (X_test, y_test) = mnist.load_data()\n",
    "X_train, X_test = X_train / 255., X_test / 255."
   ],
   "outputs": [],
   "metadata": {}
  },
  {
   "cell_type": "code",
   "execution_count": 19,
   "source": [
    "model = tf.keras.models.Sequential([\n",
    "\ttf.keras.layers.Flatten(input_shape=(28, 28)),\n",
    "\ttf.keras.layers.Dense(128, activation='relu'),\n",
    "\ttf.keras.layers.Dropout(0.2),\n",
    "\ttf.keras.layers.Dense(10)\n",
    "])"
   ],
   "outputs": [],
   "metadata": {}
  },
  {
   "cell_type": "code",
   "execution_count": 20,
   "source": [
    "predictions = model(X_train[:1]).numpy()\n",
    "predictions"
   ],
   "outputs": [
    {
     "output_type": "execute_result",
     "data": {
      "text/plain": [
       "array([[-0.63865614, -0.84598535,  0.30154634,  0.30027914,  0.47198415,\n",
       "         0.6066361 ,  0.24268834, -0.595736  , -0.7515372 , -0.4865299 ]],\n",
       "      dtype=float32)"
      ]
     },
     "metadata": {},
     "execution_count": 20
    }
   ],
   "metadata": {}
  },
  {
   "cell_type": "code",
   "execution_count": 21,
   "source": [
    "tf.nn.softmax(predictions).numpy()"
   ],
   "outputs": [
    {
     "output_type": "execute_result",
     "data": {
      "text/plain": [
       "array([[0.05275285, 0.04287498, 0.13507365, 0.1349026 , 0.16017357,\n",
       "        0.18326074, 0.12735292, 0.0550663 , 0.04712184, 0.06142052]],\n",
       "      dtype=float32)"
      ]
     },
     "metadata": {},
     "execution_count": 21
    }
   ],
   "metadata": {}
  },
  {
   "cell_type": "code",
   "execution_count": 22,
   "source": [
    "loss_fn = tf.keras.losses.SparseCategoricalCrossentropy(from_logits=True)"
   ],
   "outputs": [],
   "metadata": {}
  },
  {
   "cell_type": "code",
   "execution_count": 23,
   "source": [
    "loss_fn(y_train[:1], predictions).numpy()"
   ],
   "outputs": [
    {
     "output_type": "execute_result",
     "data": {
      "text/plain": [
       "1.6968453"
      ]
     },
     "metadata": {},
     "execution_count": 23
    }
   ],
   "metadata": {}
  },
  {
   "cell_type": "code",
   "execution_count": 24,
   "source": [
    "model.compile(optimizer='adam', loss=loss_fn, metrics=['accuracy'])"
   ],
   "outputs": [],
   "metadata": {}
  },
  {
   "cell_type": "code",
   "execution_count": 25,
   "source": [
    "model.fit(X_train, y_train, epochs=5)"
   ],
   "outputs": [
    {
     "output_type": "stream",
     "name": "stdout",
     "text": [
      "Epoch 1/5\n",
      "1875/1875 [==============================] - 3s 2ms/step - loss: 0.2994 - accuracy: 0.9123\n",
      "Epoch 2/5\n",
      "1875/1875 [==============================] - 4s 2ms/step - loss: 0.1473 - accuracy: 0.9569\n",
      "Epoch 3/5\n",
      "1875/1875 [==============================] - 5s 3ms/step - loss: 0.1116 - accuracy: 0.9665\n",
      "Epoch 4/5\n",
      "1875/1875 [==============================] - 4s 2ms/step - loss: 0.0885 - accuracy: 0.9720\n",
      "Epoch 5/5\n",
      "1875/1875 [==============================] - 4s 2ms/step - loss: 0.0765 - accuracy: 0.9761\n"
     ]
    },
    {
     "output_type": "execute_result",
     "data": {
      "text/plain": [
       "<tensorflow.python.keras.callbacks.History at 0x7f15362d5a90>"
      ]
     },
     "metadata": {},
     "execution_count": 25
    }
   ],
   "metadata": {}
  },
  {
   "cell_type": "code",
   "execution_count": 27,
   "source": [
    "model.evaluate(X_test, y_test)"
   ],
   "outputs": [
    {
     "output_type": "stream",
     "name": "stdout",
     "text": [
      "313/313 [==============================] - 0s 1ms/step - loss: 0.0716 - accuracy: 0.9776\n"
     ]
    },
    {
     "output_type": "execute_result",
     "data": {
      "text/plain": [
       "[0.07160965353250504, 0.9775999784469604]"
      ]
     },
     "metadata": {},
     "execution_count": 27
    }
   ],
   "metadata": {}
  },
  {
   "cell_type": "code",
   "execution_count": 28,
   "source": [
    "probability_model = tf.keras.Sequential([\n",
    "\tmodel,\n",
    "\ttf.keras.layers.Softmax(),\n",
    "])"
   ],
   "outputs": [],
   "metadata": {}
  },
  {
   "cell_type": "code",
   "execution_count": 29,
   "source": [
    "probability_model.predict(X_test[:3])"
   ],
   "outputs": [
    {
     "output_type": "execute_result",
     "data": {
      "text/plain": [
       "array([[8.2270013e-08, 6.4263452e-09, 3.2719354e-06, 2.2479687e-04,\n",
       "        1.2598665e-09, 3.9285075e-07, 1.3575896e-13, 9.9977106e-01,\n",
       "        1.0909654e-07, 3.6026125e-07],\n",
       "       [1.6341813e-09, 6.4192910e-04, 9.9935216e-01, 4.9196256e-06,\n",
       "        1.0070529e-13, 4.1725627e-07, 1.7672208e-07, 1.3934483e-12,\n",
       "        4.5024865e-07, 8.3953943e-13],\n",
       "       [1.7986615e-07, 9.9822265e-01, 6.6434346e-05, 9.4997276e-06,\n",
       "        3.2717362e-05, 1.3713556e-05, 5.4868451e-05, 1.4817570e-03,\n",
       "        1.1752539e-04, 5.8502820e-07]], dtype=float32)"
      ]
     },
     "metadata": {},
     "execution_count": 29
    }
   ],
   "metadata": {}
  },
  {
   "cell_type": "code",
   "execution_count": null,
   "source": [],
   "outputs": [],
   "metadata": {}
  }
 ],
 "metadata": {
  "orig_nbformat": 4,
  "language_info": {
   "name": "python"
  }
 },
 "nbformat": 4,
 "nbformat_minor": 2
}